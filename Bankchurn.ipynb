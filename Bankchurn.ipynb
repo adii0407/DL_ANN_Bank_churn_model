{
 "cells": [
  {
   "cell_type": "markdown",
   "metadata": {},
   "source": [
    "A manager at the bank is disturbed with more and more customers leaving their credit card services. They would really appreciate if one could predict for them who is gonna get churned so they can proactively go to the customer to provide them better services and turn customers' decisions in the opposite direction\n",
    "\n",
    "I got this dataset from a website with the URL as https://leaps.analyttica.com/home. I have been using this for a while to get datasets and accordingly work on them to produce fruitful results. The site explains how to solve a particular business problem.\n",
    "\n",
    "Now, this dataset consists of 10,000 customers mentioning their age, salary, marital_status, credit card limit, credit card category, etc. There are nearly 18 features.\n",
    "\n",
    "We have only 16.07% of customers who have churned. Thus, it's a bit difficult to train our model to predict churning customers."
   ]
  },
  {
   "cell_type": "markdown",
   "metadata": {},
   "source": [
    "# Data Dictionary"
   ]
  },
  {
   "cell_type": "markdown",
   "metadata": {},
   "source": [
    "CLIENTNUM - ID of the customer holding the credit card.\n",
    "\n",
    "Customer_Age - Age of the customer.\n",
    "\n",
    "Gender - Sex of the customer.\n",
    "\n",
    "Dependent_count - Number of dependents of the customer.\n",
    "\n",
    "Education_Level - Educational qualification of the customer.\n",
    "\n",
    "Marital_Status - Civil status of the customer.\n",
    "\n",
    "Income_Category - Annual income range of the customer.\n",
    "\n",
    "Card_Category - Type of card owned by the customer.\n",
    "\n",
    "Months_on_book - Number of months elapsed since the account opening.\n",
    "\n",
    "Total_Relationship_Count - Total number of products held by the customer.\n",
    "\n",
    "Months_Inactive_12_mon - Number of months with no transactions in the last year.\n",
    "\n",
    "Contacts_Count_12_mon - Number of contacts with the bank in the last year.\n",
    "\n",
    "Credit_Limit - Credit limit on the credit card.\n",
    "\n",
    "Total_Revolving_Bal - Total revolving balance on the credit card.\n",
    "\n",
    "Avg_Open_To_Buy - Average card \"Open To Buy\" (=credit limit - account balance) in the last year.\n",
    "\n",
    "Total_Amt_Chng_Q4_Q1 - Change in transaction amount over the last year (Q4 over Q1).\n",
    "\n",
    "Total_Trans_Amt - Total amount of transactions made in the last year.\n",
    "\n",
    "Total_Trans_Ct - Number of transactions made in the last year.\n",
    "\n",
    "Total_Ct_Chng_Q4_Q1 - Change in transaction number over the last year (Q4 over Q1).\n",
    "\n",
    "Avg_Utilization_Ratio - Average card \"Utilization ratio\" (=account balance / credit limit) in the last year.\n",
    "\n",
    "Attrition_Flag - Target variable. \"Attrited Customer\" if the customer closed their account, otherwise \"Existing Customer\"."
   ]
  },
  {
   "cell_type": "code",
   "execution_count": 1,
   "metadata": {},
   "outputs": [],
   "source": [
    "import numpy as np\n",
    "import pandas as pd\n",
    "import matplotlib.pyplot as plt\n",
    "import seaborn as sns"
   ]
  },
  {
   "cell_type": "code",
   "execution_count": 2,
   "metadata": {},
   "outputs": [],
   "source": [
    "import os \n",
    "os.chdir('C:\\\\Data\\\\deepmodel')"
   ]
  },
  {
   "cell_type": "code",
   "execution_count": 3,
   "metadata": {},
   "outputs": [
    {
     "data": {
      "text/plain": [
       "'C:\\\\Data\\\\deepmodel'"
      ]
     },
     "execution_count": 3,
     "metadata": {},
     "output_type": "execute_result"
    }
   ],
   "source": [
    "pwd"
   ]
  },
  {
   "cell_type": "code",
   "execution_count": 4,
   "metadata": {},
   "outputs": [],
   "source": [
    "data=pd.read_csv('BankChurners.csv')"
   ]
  },
  {
   "cell_type": "code",
   "execution_count": 5,
   "metadata": {},
   "outputs": [
    {
     "data": {
      "text/html": [
       "<div>\n",
       "<style scoped>\n",
       "    .dataframe tbody tr th:only-of-type {\n",
       "        vertical-align: middle;\n",
       "    }\n",
       "\n",
       "    .dataframe tbody tr th {\n",
       "        vertical-align: top;\n",
       "    }\n",
       "\n",
       "    .dataframe thead th {\n",
       "        text-align: right;\n",
       "    }\n",
       "</style>\n",
       "<table border=\"1\" class=\"dataframe\">\n",
       "  <thead>\n",
       "    <tr style=\"text-align: right;\">\n",
       "      <th></th>\n",
       "      <th>CLIENTNUM</th>\n",
       "      <th>Attrition_Flag</th>\n",
       "      <th>Customer_Age</th>\n",
       "      <th>Gender</th>\n",
       "      <th>Dependent_count</th>\n",
       "      <th>Education_Level</th>\n",
       "      <th>Marital_Status</th>\n",
       "      <th>Income_Category</th>\n",
       "      <th>Card_Category</th>\n",
       "      <th>Months_on_book</th>\n",
       "      <th>...</th>\n",
       "      <th>Credit_Limit</th>\n",
       "      <th>Total_Revolving_Bal</th>\n",
       "      <th>Avg_Open_To_Buy</th>\n",
       "      <th>Total_Amt_Chng_Q4_Q1</th>\n",
       "      <th>Total_Trans_Amt</th>\n",
       "      <th>Total_Trans_Ct</th>\n",
       "      <th>Total_Ct_Chng_Q4_Q1</th>\n",
       "      <th>Avg_Utilization_Ratio</th>\n",
       "      <th>Naive_Bayes_Classifier_Attrition_Flag_Card_Category_Contacts_Count_12_mon_Dependent_count_Education_Level_Months_Inactive_12_mon_1</th>\n",
       "      <th>Naive_Bayes_Classifier_Attrition_Flag_Card_Category_Contacts_Count_12_mon_Dependent_count_Education_Level_Months_Inactive_12_mon_2</th>\n",
       "    </tr>\n",
       "  </thead>\n",
       "  <tbody>\n",
       "    <tr>\n",
       "      <th>0</th>\n",
       "      <td>768805383</td>\n",
       "      <td>Existing Customer</td>\n",
       "      <td>45</td>\n",
       "      <td>M</td>\n",
       "      <td>3</td>\n",
       "      <td>High School</td>\n",
       "      <td>Married</td>\n",
       "      <td>$60K - $80K</td>\n",
       "      <td>Blue</td>\n",
       "      <td>39</td>\n",
       "      <td>...</td>\n",
       "      <td>12691.0</td>\n",
       "      <td>777</td>\n",
       "      <td>11914.0</td>\n",
       "      <td>1.335</td>\n",
       "      <td>1144</td>\n",
       "      <td>42</td>\n",
       "      <td>1.625</td>\n",
       "      <td>0.061</td>\n",
       "      <td>0.000093</td>\n",
       "      <td>0.999910</td>\n",
       "    </tr>\n",
       "    <tr>\n",
       "      <th>1</th>\n",
       "      <td>818770008</td>\n",
       "      <td>Existing Customer</td>\n",
       "      <td>49</td>\n",
       "      <td>F</td>\n",
       "      <td>5</td>\n",
       "      <td>Graduate</td>\n",
       "      <td>Single</td>\n",
       "      <td>Less than $40K</td>\n",
       "      <td>Blue</td>\n",
       "      <td>44</td>\n",
       "      <td>...</td>\n",
       "      <td>8256.0</td>\n",
       "      <td>864</td>\n",
       "      <td>7392.0</td>\n",
       "      <td>1.541</td>\n",
       "      <td>1291</td>\n",
       "      <td>33</td>\n",
       "      <td>3.714</td>\n",
       "      <td>0.105</td>\n",
       "      <td>0.000057</td>\n",
       "      <td>0.999940</td>\n",
       "    </tr>\n",
       "    <tr>\n",
       "      <th>2</th>\n",
       "      <td>713982108</td>\n",
       "      <td>Existing Customer</td>\n",
       "      <td>51</td>\n",
       "      <td>M</td>\n",
       "      <td>3</td>\n",
       "      <td>Graduate</td>\n",
       "      <td>Married</td>\n",
       "      <td>$80K - $120K</td>\n",
       "      <td>Blue</td>\n",
       "      <td>36</td>\n",
       "      <td>...</td>\n",
       "      <td>3418.0</td>\n",
       "      <td>0</td>\n",
       "      <td>3418.0</td>\n",
       "      <td>2.594</td>\n",
       "      <td>1887</td>\n",
       "      <td>20</td>\n",
       "      <td>2.333</td>\n",
       "      <td>0.000</td>\n",
       "      <td>0.000021</td>\n",
       "      <td>0.999980</td>\n",
       "    </tr>\n",
       "    <tr>\n",
       "      <th>3</th>\n",
       "      <td>769911858</td>\n",
       "      <td>Existing Customer</td>\n",
       "      <td>40</td>\n",
       "      <td>F</td>\n",
       "      <td>4</td>\n",
       "      <td>High School</td>\n",
       "      <td>Unknown</td>\n",
       "      <td>Less than $40K</td>\n",
       "      <td>Blue</td>\n",
       "      <td>34</td>\n",
       "      <td>...</td>\n",
       "      <td>3313.0</td>\n",
       "      <td>2517</td>\n",
       "      <td>796.0</td>\n",
       "      <td>1.405</td>\n",
       "      <td>1171</td>\n",
       "      <td>20</td>\n",
       "      <td>2.333</td>\n",
       "      <td>0.760</td>\n",
       "      <td>0.000134</td>\n",
       "      <td>0.999870</td>\n",
       "    </tr>\n",
       "    <tr>\n",
       "      <th>4</th>\n",
       "      <td>709106358</td>\n",
       "      <td>Existing Customer</td>\n",
       "      <td>40</td>\n",
       "      <td>M</td>\n",
       "      <td>3</td>\n",
       "      <td>Uneducated</td>\n",
       "      <td>Married</td>\n",
       "      <td>$60K - $80K</td>\n",
       "      <td>Blue</td>\n",
       "      <td>21</td>\n",
       "      <td>...</td>\n",
       "      <td>4716.0</td>\n",
       "      <td>0</td>\n",
       "      <td>4716.0</td>\n",
       "      <td>2.175</td>\n",
       "      <td>816</td>\n",
       "      <td>28</td>\n",
       "      <td>2.500</td>\n",
       "      <td>0.000</td>\n",
       "      <td>0.000022</td>\n",
       "      <td>0.999980</td>\n",
       "    </tr>\n",
       "    <tr>\n",
       "      <th>...</th>\n",
       "      <td>...</td>\n",
       "      <td>...</td>\n",
       "      <td>...</td>\n",
       "      <td>...</td>\n",
       "      <td>...</td>\n",
       "      <td>...</td>\n",
       "      <td>...</td>\n",
       "      <td>...</td>\n",
       "      <td>...</td>\n",
       "      <td>...</td>\n",
       "      <td>...</td>\n",
       "      <td>...</td>\n",
       "      <td>...</td>\n",
       "      <td>...</td>\n",
       "      <td>...</td>\n",
       "      <td>...</td>\n",
       "      <td>...</td>\n",
       "      <td>...</td>\n",
       "      <td>...</td>\n",
       "      <td>...</td>\n",
       "      <td>...</td>\n",
       "    </tr>\n",
       "    <tr>\n",
       "      <th>10122</th>\n",
       "      <td>772366833</td>\n",
       "      <td>Existing Customer</td>\n",
       "      <td>50</td>\n",
       "      <td>M</td>\n",
       "      <td>2</td>\n",
       "      <td>Graduate</td>\n",
       "      <td>Single</td>\n",
       "      <td>$40K - $60K</td>\n",
       "      <td>Blue</td>\n",
       "      <td>40</td>\n",
       "      <td>...</td>\n",
       "      <td>4003.0</td>\n",
       "      <td>1851</td>\n",
       "      <td>2152.0</td>\n",
       "      <td>0.703</td>\n",
       "      <td>15476</td>\n",
       "      <td>117</td>\n",
       "      <td>0.857</td>\n",
       "      <td>0.462</td>\n",
       "      <td>0.000191</td>\n",
       "      <td>0.999810</td>\n",
       "    </tr>\n",
       "    <tr>\n",
       "      <th>10123</th>\n",
       "      <td>710638233</td>\n",
       "      <td>Attrited Customer</td>\n",
       "      <td>41</td>\n",
       "      <td>M</td>\n",
       "      <td>2</td>\n",
       "      <td>Unknown</td>\n",
       "      <td>Divorced</td>\n",
       "      <td>$40K - $60K</td>\n",
       "      <td>Blue</td>\n",
       "      <td>25</td>\n",
       "      <td>...</td>\n",
       "      <td>4277.0</td>\n",
       "      <td>2186</td>\n",
       "      <td>2091.0</td>\n",
       "      <td>0.804</td>\n",
       "      <td>8764</td>\n",
       "      <td>69</td>\n",
       "      <td>0.683</td>\n",
       "      <td>0.511</td>\n",
       "      <td>0.995270</td>\n",
       "      <td>0.004729</td>\n",
       "    </tr>\n",
       "    <tr>\n",
       "      <th>10124</th>\n",
       "      <td>716506083</td>\n",
       "      <td>Attrited Customer</td>\n",
       "      <td>44</td>\n",
       "      <td>F</td>\n",
       "      <td>1</td>\n",
       "      <td>High School</td>\n",
       "      <td>Married</td>\n",
       "      <td>Less than $40K</td>\n",
       "      <td>Blue</td>\n",
       "      <td>36</td>\n",
       "      <td>...</td>\n",
       "      <td>5409.0</td>\n",
       "      <td>0</td>\n",
       "      <td>5409.0</td>\n",
       "      <td>0.819</td>\n",
       "      <td>10291</td>\n",
       "      <td>60</td>\n",
       "      <td>0.818</td>\n",
       "      <td>0.000</td>\n",
       "      <td>0.997880</td>\n",
       "      <td>0.002118</td>\n",
       "    </tr>\n",
       "    <tr>\n",
       "      <th>10125</th>\n",
       "      <td>717406983</td>\n",
       "      <td>Attrited Customer</td>\n",
       "      <td>30</td>\n",
       "      <td>M</td>\n",
       "      <td>2</td>\n",
       "      <td>Graduate</td>\n",
       "      <td>Unknown</td>\n",
       "      <td>$40K - $60K</td>\n",
       "      <td>Blue</td>\n",
       "      <td>36</td>\n",
       "      <td>...</td>\n",
       "      <td>5281.0</td>\n",
       "      <td>0</td>\n",
       "      <td>5281.0</td>\n",
       "      <td>0.535</td>\n",
       "      <td>8395</td>\n",
       "      <td>62</td>\n",
       "      <td>0.722</td>\n",
       "      <td>0.000</td>\n",
       "      <td>0.996710</td>\n",
       "      <td>0.003294</td>\n",
       "    </tr>\n",
       "    <tr>\n",
       "      <th>10126</th>\n",
       "      <td>714337233</td>\n",
       "      <td>Attrited Customer</td>\n",
       "      <td>43</td>\n",
       "      <td>F</td>\n",
       "      <td>2</td>\n",
       "      <td>Graduate</td>\n",
       "      <td>Married</td>\n",
       "      <td>Less than $40K</td>\n",
       "      <td>Silver</td>\n",
       "      <td>25</td>\n",
       "      <td>...</td>\n",
       "      <td>10388.0</td>\n",
       "      <td>1961</td>\n",
       "      <td>8427.0</td>\n",
       "      <td>0.703</td>\n",
       "      <td>10294</td>\n",
       "      <td>61</td>\n",
       "      <td>0.649</td>\n",
       "      <td>0.189</td>\n",
       "      <td>0.996620</td>\n",
       "      <td>0.003377</td>\n",
       "    </tr>\n",
       "  </tbody>\n",
       "</table>\n",
       "<p>10127 rows × 23 columns</p>\n",
       "</div>"
      ],
      "text/plain": [
       "       CLIENTNUM     Attrition_Flag  Customer_Age Gender  Dependent_count  \\\n",
       "0      768805383  Existing Customer            45      M                3   \n",
       "1      818770008  Existing Customer            49      F                5   \n",
       "2      713982108  Existing Customer            51      M                3   \n",
       "3      769911858  Existing Customer            40      F                4   \n",
       "4      709106358  Existing Customer            40      M                3   \n",
       "...          ...                ...           ...    ...              ...   \n",
       "10122  772366833  Existing Customer            50      M                2   \n",
       "10123  710638233  Attrited Customer            41      M                2   \n",
       "10124  716506083  Attrited Customer            44      F                1   \n",
       "10125  717406983  Attrited Customer            30      M                2   \n",
       "10126  714337233  Attrited Customer            43      F                2   \n",
       "\n",
       "      Education_Level Marital_Status Income_Category Card_Category  \\\n",
       "0         High School        Married     $60K - $80K          Blue   \n",
       "1            Graduate         Single  Less than $40K          Blue   \n",
       "2            Graduate        Married    $80K - $120K          Blue   \n",
       "3         High School        Unknown  Less than $40K          Blue   \n",
       "4          Uneducated        Married     $60K - $80K          Blue   \n",
       "...               ...            ...             ...           ...   \n",
       "10122        Graduate         Single     $40K - $60K          Blue   \n",
       "10123         Unknown       Divorced     $40K - $60K          Blue   \n",
       "10124     High School        Married  Less than $40K          Blue   \n",
       "10125        Graduate        Unknown     $40K - $60K          Blue   \n",
       "10126        Graduate        Married  Less than $40K        Silver   \n",
       "\n",
       "       Months_on_book  ...  Credit_Limit  Total_Revolving_Bal  \\\n",
       "0                  39  ...       12691.0                  777   \n",
       "1                  44  ...        8256.0                  864   \n",
       "2                  36  ...        3418.0                    0   \n",
       "3                  34  ...        3313.0                 2517   \n",
       "4                  21  ...        4716.0                    0   \n",
       "...               ...  ...           ...                  ...   \n",
       "10122              40  ...        4003.0                 1851   \n",
       "10123              25  ...        4277.0                 2186   \n",
       "10124              36  ...        5409.0                    0   \n",
       "10125              36  ...        5281.0                    0   \n",
       "10126              25  ...       10388.0                 1961   \n",
       "\n",
       "       Avg_Open_To_Buy  Total_Amt_Chng_Q4_Q1  Total_Trans_Amt  Total_Trans_Ct  \\\n",
       "0              11914.0                 1.335             1144              42   \n",
       "1               7392.0                 1.541             1291              33   \n",
       "2               3418.0                 2.594             1887              20   \n",
       "3                796.0                 1.405             1171              20   \n",
       "4               4716.0                 2.175              816              28   \n",
       "...                ...                   ...              ...             ...   \n",
       "10122           2152.0                 0.703            15476             117   \n",
       "10123           2091.0                 0.804             8764              69   \n",
       "10124           5409.0                 0.819            10291              60   \n",
       "10125           5281.0                 0.535             8395              62   \n",
       "10126           8427.0                 0.703            10294              61   \n",
       "\n",
       "       Total_Ct_Chng_Q4_Q1  Avg_Utilization_Ratio  \\\n",
       "0                    1.625                  0.061   \n",
       "1                    3.714                  0.105   \n",
       "2                    2.333                  0.000   \n",
       "3                    2.333                  0.760   \n",
       "4                    2.500                  0.000   \n",
       "...                    ...                    ...   \n",
       "10122                0.857                  0.462   \n",
       "10123                0.683                  0.511   \n",
       "10124                0.818                  0.000   \n",
       "10125                0.722                  0.000   \n",
       "10126                0.649                  0.189   \n",
       "\n",
       "       Naive_Bayes_Classifier_Attrition_Flag_Card_Category_Contacts_Count_12_mon_Dependent_count_Education_Level_Months_Inactive_12_mon_1  \\\n",
       "0                                               0.000093                                                                                    \n",
       "1                                               0.000057                                                                                    \n",
       "2                                               0.000021                                                                                    \n",
       "3                                               0.000134                                                                                    \n",
       "4                                               0.000022                                                                                    \n",
       "...                                                  ...                                                                                    \n",
       "10122                                           0.000191                                                                                    \n",
       "10123                                           0.995270                                                                                    \n",
       "10124                                           0.997880                                                                                    \n",
       "10125                                           0.996710                                                                                    \n",
       "10126                                           0.996620                                                                                    \n",
       "\n",
       "       Naive_Bayes_Classifier_Attrition_Flag_Card_Category_Contacts_Count_12_mon_Dependent_count_Education_Level_Months_Inactive_12_mon_2  \n",
       "0                                               0.999910                                                                                   \n",
       "1                                               0.999940                                                                                   \n",
       "2                                               0.999980                                                                                   \n",
       "3                                               0.999870                                                                                   \n",
       "4                                               0.999980                                                                                   \n",
       "...                                                  ...                                                                                   \n",
       "10122                                           0.999810                                                                                   \n",
       "10123                                           0.004729                                                                                   \n",
       "10124                                           0.002118                                                                                   \n",
       "10125                                           0.003294                                                                                   \n",
       "10126                                           0.003377                                                                                   \n",
       "\n",
       "[10127 rows x 23 columns]"
      ]
     },
     "execution_count": 5,
     "metadata": {},
     "output_type": "execute_result"
    }
   ],
   "source": [
    "data"
   ]
  },
  {
   "cell_type": "code",
   "execution_count": 6,
   "metadata": {},
   "outputs": [],
   "source": [
    "data= data.iloc[:,:-2]"
   ]
  },
  {
   "cell_type": "code",
   "execution_count": 7,
   "metadata": {},
   "outputs": [],
   "source": [
    "pd.set_option('display.max_columns', None)"
   ]
  },
  {
   "cell_type": "code",
   "execution_count": 8,
   "metadata": {},
   "outputs": [
    {
     "data": {
      "text/html": [
       "<div>\n",
       "<style scoped>\n",
       "    .dataframe tbody tr th:only-of-type {\n",
       "        vertical-align: middle;\n",
       "    }\n",
       "\n",
       "    .dataframe tbody tr th {\n",
       "        vertical-align: top;\n",
       "    }\n",
       "\n",
       "    .dataframe thead th {\n",
       "        text-align: right;\n",
       "    }\n",
       "</style>\n",
       "<table border=\"1\" class=\"dataframe\">\n",
       "  <thead>\n",
       "    <tr style=\"text-align: right;\">\n",
       "      <th></th>\n",
       "      <th>CLIENTNUM</th>\n",
       "      <th>Attrition_Flag</th>\n",
       "      <th>Customer_Age</th>\n",
       "      <th>Gender</th>\n",
       "      <th>Dependent_count</th>\n",
       "      <th>Education_Level</th>\n",
       "      <th>Marital_Status</th>\n",
       "      <th>Income_Category</th>\n",
       "      <th>Card_Category</th>\n",
       "      <th>Months_on_book</th>\n",
       "      <th>Total_Relationship_Count</th>\n",
       "      <th>Months_Inactive_12_mon</th>\n",
       "      <th>Contacts_Count_12_mon</th>\n",
       "      <th>Credit_Limit</th>\n",
       "      <th>Total_Revolving_Bal</th>\n",
       "      <th>Avg_Open_To_Buy</th>\n",
       "      <th>Total_Amt_Chng_Q4_Q1</th>\n",
       "      <th>Total_Trans_Amt</th>\n",
       "      <th>Total_Trans_Ct</th>\n",
       "      <th>Total_Ct_Chng_Q4_Q1</th>\n",
       "      <th>Avg_Utilization_Ratio</th>\n",
       "    </tr>\n",
       "  </thead>\n",
       "  <tbody>\n",
       "    <tr>\n",
       "      <th>0</th>\n",
       "      <td>768805383</td>\n",
       "      <td>Existing Customer</td>\n",
       "      <td>45</td>\n",
       "      <td>M</td>\n",
       "      <td>3</td>\n",
       "      <td>High School</td>\n",
       "      <td>Married</td>\n",
       "      <td>$60K - $80K</td>\n",
       "      <td>Blue</td>\n",
       "      <td>39</td>\n",
       "      <td>5</td>\n",
       "      <td>1</td>\n",
       "      <td>3</td>\n",
       "      <td>12691.0</td>\n",
       "      <td>777</td>\n",
       "      <td>11914.0</td>\n",
       "      <td>1.335</td>\n",
       "      <td>1144</td>\n",
       "      <td>42</td>\n",
       "      <td>1.625</td>\n",
       "      <td>0.061</td>\n",
       "    </tr>\n",
       "    <tr>\n",
       "      <th>1</th>\n",
       "      <td>818770008</td>\n",
       "      <td>Existing Customer</td>\n",
       "      <td>49</td>\n",
       "      <td>F</td>\n",
       "      <td>5</td>\n",
       "      <td>Graduate</td>\n",
       "      <td>Single</td>\n",
       "      <td>Less than $40K</td>\n",
       "      <td>Blue</td>\n",
       "      <td>44</td>\n",
       "      <td>6</td>\n",
       "      <td>1</td>\n",
       "      <td>2</td>\n",
       "      <td>8256.0</td>\n",
       "      <td>864</td>\n",
       "      <td>7392.0</td>\n",
       "      <td>1.541</td>\n",
       "      <td>1291</td>\n",
       "      <td>33</td>\n",
       "      <td>3.714</td>\n",
       "      <td>0.105</td>\n",
       "    </tr>\n",
       "    <tr>\n",
       "      <th>2</th>\n",
       "      <td>713982108</td>\n",
       "      <td>Existing Customer</td>\n",
       "      <td>51</td>\n",
       "      <td>M</td>\n",
       "      <td>3</td>\n",
       "      <td>Graduate</td>\n",
       "      <td>Married</td>\n",
       "      <td>$80K - $120K</td>\n",
       "      <td>Blue</td>\n",
       "      <td>36</td>\n",
       "      <td>4</td>\n",
       "      <td>1</td>\n",
       "      <td>0</td>\n",
       "      <td>3418.0</td>\n",
       "      <td>0</td>\n",
       "      <td>3418.0</td>\n",
       "      <td>2.594</td>\n",
       "      <td>1887</td>\n",
       "      <td>20</td>\n",
       "      <td>2.333</td>\n",
       "      <td>0.000</td>\n",
       "    </tr>\n",
       "    <tr>\n",
       "      <th>3</th>\n",
       "      <td>769911858</td>\n",
       "      <td>Existing Customer</td>\n",
       "      <td>40</td>\n",
       "      <td>F</td>\n",
       "      <td>4</td>\n",
       "      <td>High School</td>\n",
       "      <td>Unknown</td>\n",
       "      <td>Less than $40K</td>\n",
       "      <td>Blue</td>\n",
       "      <td>34</td>\n",
       "      <td>3</td>\n",
       "      <td>4</td>\n",
       "      <td>1</td>\n",
       "      <td>3313.0</td>\n",
       "      <td>2517</td>\n",
       "      <td>796.0</td>\n",
       "      <td>1.405</td>\n",
       "      <td>1171</td>\n",
       "      <td>20</td>\n",
       "      <td>2.333</td>\n",
       "      <td>0.760</td>\n",
       "    </tr>\n",
       "    <tr>\n",
       "      <th>4</th>\n",
       "      <td>709106358</td>\n",
       "      <td>Existing Customer</td>\n",
       "      <td>40</td>\n",
       "      <td>M</td>\n",
       "      <td>3</td>\n",
       "      <td>Uneducated</td>\n",
       "      <td>Married</td>\n",
       "      <td>$60K - $80K</td>\n",
       "      <td>Blue</td>\n",
       "      <td>21</td>\n",
       "      <td>5</td>\n",
       "      <td>1</td>\n",
       "      <td>0</td>\n",
       "      <td>4716.0</td>\n",
       "      <td>0</td>\n",
       "      <td>4716.0</td>\n",
       "      <td>2.175</td>\n",
       "      <td>816</td>\n",
       "      <td>28</td>\n",
       "      <td>2.500</td>\n",
       "      <td>0.000</td>\n",
       "    </tr>\n",
       "  </tbody>\n",
       "</table>\n",
       "</div>"
      ],
      "text/plain": [
       "   CLIENTNUM     Attrition_Flag  Customer_Age Gender  Dependent_count  \\\n",
       "0  768805383  Existing Customer            45      M                3   \n",
       "1  818770008  Existing Customer            49      F                5   \n",
       "2  713982108  Existing Customer            51      M                3   \n",
       "3  769911858  Existing Customer            40      F                4   \n",
       "4  709106358  Existing Customer            40      M                3   \n",
       "\n",
       "  Education_Level Marital_Status Income_Category Card_Category  \\\n",
       "0     High School        Married     $60K - $80K          Blue   \n",
       "1        Graduate         Single  Less than $40K          Blue   \n",
       "2        Graduate        Married    $80K - $120K          Blue   \n",
       "3     High School        Unknown  Less than $40K          Blue   \n",
       "4      Uneducated        Married     $60K - $80K          Blue   \n",
       "\n",
       "   Months_on_book  Total_Relationship_Count  Months_Inactive_12_mon  \\\n",
       "0              39                         5                       1   \n",
       "1              44                         6                       1   \n",
       "2              36                         4                       1   \n",
       "3              34                         3                       4   \n",
       "4              21                         5                       1   \n",
       "\n",
       "   Contacts_Count_12_mon  Credit_Limit  Total_Revolving_Bal  Avg_Open_To_Buy  \\\n",
       "0                      3       12691.0                  777          11914.0   \n",
       "1                      2        8256.0                  864           7392.0   \n",
       "2                      0        3418.0                    0           3418.0   \n",
       "3                      1        3313.0                 2517            796.0   \n",
       "4                      0        4716.0                    0           4716.0   \n",
       "\n",
       "   Total_Amt_Chng_Q4_Q1  Total_Trans_Amt  Total_Trans_Ct  Total_Ct_Chng_Q4_Q1  \\\n",
       "0                 1.335             1144              42                1.625   \n",
       "1                 1.541             1291              33                3.714   \n",
       "2                 2.594             1887              20                2.333   \n",
       "3                 1.405             1171              20                2.333   \n",
       "4                 2.175              816              28                2.500   \n",
       "\n",
       "   Avg_Utilization_Ratio  \n",
       "0                  0.061  \n",
       "1                  0.105  \n",
       "2                  0.000  \n",
       "3                  0.760  \n",
       "4                  0.000  "
      ]
     },
     "execution_count": 8,
     "metadata": {},
     "output_type": "execute_result"
    }
   ],
   "source": [
    "data.head()"
   ]
  },
  {
   "cell_type": "code",
   "execution_count": 9,
   "metadata": {},
   "outputs": [
    {
     "data": {
      "text/plain": [
       "CLIENTNUM                   0\n",
       "Attrition_Flag              0\n",
       "Customer_Age                0\n",
       "Gender                      0\n",
       "Dependent_count             0\n",
       "Education_Level             0\n",
       "Marital_Status              0\n",
       "Income_Category             0\n",
       "Card_Category               0\n",
       "Months_on_book              0\n",
       "Total_Relationship_Count    0\n",
       "Months_Inactive_12_mon      0\n",
       "Contacts_Count_12_mon       0\n",
       "Credit_Limit                0\n",
       "Total_Revolving_Bal         0\n",
       "Avg_Open_To_Buy             0\n",
       "Total_Amt_Chng_Q4_Q1        0\n",
       "Total_Trans_Amt             0\n",
       "Total_Trans_Ct              0\n",
       "Total_Ct_Chng_Q4_Q1         0\n",
       "Avg_Utilization_Ratio       0\n",
       "dtype: int64"
      ]
     },
     "execution_count": 9,
     "metadata": {},
     "output_type": "execute_result"
    }
   ],
   "source": [
    "data.isnull().sum()"
   ]
  },
  {
   "cell_type": "code",
   "execution_count": 10,
   "metadata": {},
   "outputs": [],
   "source": [
    "data= data.drop(\"CLIENTNUM\", axis=1)"
   ]
  },
  {
   "cell_type": "code",
   "execution_count": 11,
   "metadata": {},
   "outputs": [
    {
     "data": {
      "text/plain": [
       "Attrition_Flag               object\n",
       "Customer_Age                  int64\n",
       "Gender                       object\n",
       "Dependent_count               int64\n",
       "Education_Level              object\n",
       "Marital_Status               object\n",
       "Income_Category              object\n",
       "Card_Category                object\n",
       "Months_on_book                int64\n",
       "Total_Relationship_Count      int64\n",
       "Months_Inactive_12_mon        int64\n",
       "Contacts_Count_12_mon         int64\n",
       "Credit_Limit                float64\n",
       "Total_Revolving_Bal           int64\n",
       "Avg_Open_To_Buy             float64\n",
       "Total_Amt_Chng_Q4_Q1        float64\n",
       "Total_Trans_Amt               int64\n",
       "Total_Trans_Ct                int64\n",
       "Total_Ct_Chng_Q4_Q1         float64\n",
       "Avg_Utilization_Ratio       float64\n",
       "dtype: object"
      ]
     },
     "execution_count": 11,
     "metadata": {},
     "output_type": "execute_result"
    }
   ],
   "source": [
    "data.dtypes"
   ]
  },
  {
   "cell_type": "code",
   "execution_count": 12,
   "metadata": {},
   "outputs": [
    {
     "data": {
      "text/plain": [
       "Less than $40K    3561\n",
       "$40K - $60K       1790\n",
       "$80K - $120K      1535\n",
       "$60K - $80K       1402\n",
       "Unknown           1112\n",
       "$120K +            727\n",
       "Name: Income_Category, dtype: int64"
      ]
     },
     "execution_count": 12,
     "metadata": {},
     "output_type": "execute_result"
    }
   ],
   "source": [
    "data['Income_Category'].value_counts()"
   ]
  },
  {
   "cell_type": "code",
   "execution_count": 13,
   "metadata": {},
   "outputs": [
    {
     "data": {
      "text/plain": [
       "Existing Customer    8500\n",
       "Attrited Customer    1627\n",
       "Name: Attrition_Flag, dtype: int64"
      ]
     },
     "execution_count": 13,
     "metadata": {},
     "output_type": "execute_result"
    }
   ],
   "source": [
    "data['Attrition_Flag'].value_counts()"
   ]
  },
  {
   "cell_type": "code",
   "execution_count": 14,
   "metadata": {},
   "outputs": [],
   "source": [
    "# train_data.replace({\"No\": 0, \"Yes\": 1,}, inplace = True)"
   ]
  },
  {
   "cell_type": "code",
   "execution_count": 15,
   "metadata": {},
   "outputs": [],
   "source": [
    "data.replace({'Existing Customer':0, 'Attrited Customer': 1}, inplace=True)"
   ]
  },
  {
   "cell_type": "code",
   "execution_count": 16,
   "metadata": {},
   "outputs": [
    {
     "data": {
      "text/plain": [
       "0    8500\n",
       "1    1627\n",
       "Name: Attrition_Flag, dtype: int64"
      ]
     },
     "execution_count": 16,
     "metadata": {},
     "output_type": "execute_result"
    }
   ],
   "source": [
    "data['Attrition_Flag'].value_counts()"
   ]
  },
  {
   "cell_type": "code",
   "execution_count": 17,
   "metadata": {},
   "outputs": [
    {
     "data": {
      "text/plain": [
       "Index(['Attrition_Flag', 'Customer_Age', 'Gender', 'Dependent_count',\n",
       "       'Education_Level', 'Marital_Status', 'Income_Category', 'Card_Category',\n",
       "       'Months_on_book', 'Total_Relationship_Count', 'Months_Inactive_12_mon',\n",
       "       'Contacts_Count_12_mon', 'Credit_Limit', 'Total_Revolving_Bal',\n",
       "       'Avg_Open_To_Buy', 'Total_Amt_Chng_Q4_Q1', 'Total_Trans_Amt',\n",
       "       'Total_Trans_Ct', 'Total_Ct_Chng_Q4_Q1', 'Avg_Utilization_Ratio'],\n",
       "      dtype='object')"
      ]
     },
     "execution_count": 17,
     "metadata": {},
     "output_type": "execute_result"
    }
   ],
   "source": [
    "data.columns"
   ]
  },
  {
   "cell_type": "code",
   "execution_count": 18,
   "metadata": {},
   "outputs": [
    {
     "data": {
      "text/plain": [
       "Index(['Gender', 'Education_Level', 'Marital_Status', 'Income_Category',\n",
       "       'Card_Category'],\n",
       "      dtype='object')"
      ]
     },
     "execution_count": 18,
     "metadata": {},
     "output_type": "execute_result"
    }
   ],
   "source": [
    "data.select_dtypes(['object']).columns"
   ]
  },
  {
   "cell_type": "code",
   "execution_count": 19,
   "metadata": {},
   "outputs": [
    {
     "data": {
      "text/plain": [
       "Blue        9436\n",
       "Silver       555\n",
       "Gold         116\n",
       "Platinum      20\n",
       "Name: Card_Category, dtype: int64"
      ]
     },
     "execution_count": 19,
     "metadata": {},
     "output_type": "execute_result"
    }
   ],
   "source": [
    "data['Card_Category'].value_counts()"
   ]
  },
  {
   "cell_type": "code",
   "execution_count": 20,
   "metadata": {},
   "outputs": [],
   "source": [
    "def dummies(x,df):\n",
    "    temp=pd.get_dummies(df[x],drop_first=True)\n",
    "    df=pd.concat([df,temp],axis=1)\n",
    "    df.drop([x],axis=1,inplace=True)\n",
    "    return df"
   ]
  },
  {
   "cell_type": "code",
   "execution_count": 21,
   "metadata": {},
   "outputs": [],
   "source": [
    "\n",
    "data = dummies('Gender',data)\n",
    "data = dummies('Education_Level',data)\n",
    "data = dummies('Marital_Status',data)\n",
    "data = dummies('Income_Category',data)\n",
    "data = dummies('Card_Category',data)\n"
   ]
  },
  {
   "cell_type": "code",
   "execution_count": 22,
   "metadata": {},
   "outputs": [
    {
     "data": {
      "text/plain": [
       "Attrition_Flag              0\n",
       "Customer_Age                0\n",
       "Dependent_count             0\n",
       "Months_on_book              0\n",
       "Total_Relationship_Count    0\n",
       "Months_Inactive_12_mon      0\n",
       "Contacts_Count_12_mon       0\n",
       "Credit_Limit                0\n",
       "Total_Revolving_Bal         0\n",
       "Avg_Open_To_Buy             0\n",
       "Total_Amt_Chng_Q4_Q1        0\n",
       "Total_Trans_Amt             0\n",
       "Total_Trans_Ct              0\n",
       "Total_Ct_Chng_Q4_Q1         0\n",
       "Avg_Utilization_Ratio       0\n",
       "M                           0\n",
       "Doctorate                   0\n",
       "Graduate                    0\n",
       "High School                 0\n",
       "Post-Graduate               0\n",
       "Uneducated                  0\n",
       "Unknown                     0\n",
       "Married                     0\n",
       "Single                      0\n",
       "Unknown                     0\n",
       "$40K - $60K                 0\n",
       "$60K - $80K                 0\n",
       "$80K - $120K                0\n",
       "Less than $40K              0\n",
       "Unknown                     0\n",
       "Gold                        0\n",
       "Platinum                    0\n",
       "Silver                      0\n",
       "dtype: int64"
      ]
     },
     "execution_count": 22,
     "metadata": {},
     "output_type": "execute_result"
    }
   ],
   "source": [
    "data.isnull().sum()"
   ]
  },
  {
   "cell_type": "code",
   "execution_count": 23,
   "metadata": {},
   "outputs": [],
   "source": [
    "X=data.drop('Attrition_Flag',axis=1)\n",
    "y=data['Attrition_Flag']"
   ]
  },
  {
   "cell_type": "code",
   "execution_count": 24,
   "metadata": {},
   "outputs": [
    {
     "data": {
      "text/plain": [
       "0    8500\n",
       "1    1627\n",
       "Name: Attrition_Flag, dtype: int64"
      ]
     },
     "execution_count": 24,
     "metadata": {},
     "output_type": "execute_result"
    }
   ],
   "source": [
    "y.value_counts()"
   ]
  },
  {
   "cell_type": "code",
   "execution_count": 25,
   "metadata": {},
   "outputs": [],
   "source": [
    "# from imblearn.over_sampling import SMOTE"
   ]
  },
  {
   "cell_type": "code",
   "execution_count": 26,
   "metadata": {},
   "outputs": [],
   "source": [
    "# X=np.array(X)"
   ]
  },
  {
   "cell_type": "code",
   "execution_count": 27,
   "metadata": {},
   "outputs": [],
   "source": [
    "# oversample = SMOTE()\n",
    "# X, y = oversample.fit_resample(X, y)"
   ]
  },
  {
   "cell_type": "code",
   "execution_count": 46,
   "metadata": {},
   "outputs": [
    {
     "data": {
      "text/plain": [
       "((10127, 32), (10127,))"
      ]
     },
     "execution_count": 46,
     "metadata": {},
     "output_type": "execute_result"
    }
   ],
   "source": [
    "X.shape,y.shape"
   ]
  },
  {
   "cell_type": "code",
   "execution_count": 47,
   "metadata": {},
   "outputs": [
    {
     "data": {
      "text/plain": [
       "0    8500\n",
       "1    1627\n",
       "Name: Attrition_Flag, dtype: int64"
      ]
     },
     "execution_count": 47,
     "metadata": {},
     "output_type": "execute_result"
    }
   ],
   "source": [
    "y.value_counts()"
   ]
  },
  {
   "cell_type": "code",
   "execution_count": 30,
   "metadata": {},
   "outputs": [],
   "source": [
    "from sklearn.model_selection import train_test_split\n",
    "from sklearn.linear_model import LogisticRegression"
   ]
  },
  {
   "cell_type": "code",
   "execution_count": 31,
   "metadata": {},
   "outputs": [],
   "source": [
    "X_train,X_test,y_train,y_test = train_test_split(X,y,test_size=0.3)"
   ]
  },
  {
   "cell_type": "code",
   "execution_count": 32,
   "metadata": {},
   "outputs": [],
   "source": [
    "from sklearn.preprocessing import StandardScaler\n",
    "scaler= StandardScaler()\n",
    "X_train= scaler.fit_transform(X_train)\n",
    "X_test= scaler.transform(X_test)"
   ]
  },
  {
   "cell_type": "code",
   "execution_count": 33,
   "metadata": {},
   "outputs": [],
   "source": [
    "lm= LogisticRegression()"
   ]
  },
  {
   "cell_type": "code",
   "execution_count": 34,
   "metadata": {},
   "outputs": [
    {
     "data": {
      "text/plain": [
       "LogisticRegression()"
      ]
     },
     "execution_count": 34,
     "metadata": {},
     "output_type": "execute_result"
    }
   ],
   "source": [
    "lm.fit(X_train,y_train)"
   ]
  },
  {
   "cell_type": "code",
   "execution_count": 35,
   "metadata": {},
   "outputs": [],
   "source": [
    "pred=lm.predict(X_test)"
   ]
  },
  {
   "cell_type": "code",
   "execution_count": 36,
   "metadata": {},
   "outputs": [
    {
     "data": {
      "text/plain": [
       "0.9062191510365252"
      ]
     },
     "execution_count": 36,
     "metadata": {},
     "output_type": "execute_result"
    }
   ],
   "source": [
    "lm.score(X_test,y_test)"
   ]
  },
  {
   "cell_type": "code",
   "execution_count": 37,
   "metadata": {},
   "outputs": [],
   "source": [
    "from sklearn.metrics import roc_auc_score"
   ]
  },
  {
   "cell_type": "code",
   "execution_count": 38,
   "metadata": {},
   "outputs": [],
   "source": [
    "pred_prob1 = lm.predict_proba(X_test)[:,1]"
   ]
  },
  {
   "cell_type": "code",
   "execution_count": 39,
   "metadata": {},
   "outputs": [],
   "source": [
    "auc_score1 = roc_auc_score(y_test, pred_prob1)"
   ]
  },
  {
   "cell_type": "code",
   "execution_count": 40,
   "metadata": {},
   "outputs": [
    {
     "data": {
      "text/plain": [
       "0.9225298059025993"
      ]
     },
     "execution_count": 40,
     "metadata": {},
     "output_type": "execute_result"
    }
   ],
   "source": [
    "auc_score1"
   ]
  },
  {
   "cell_type": "code",
   "execution_count": 41,
   "metadata": {},
   "outputs": [],
   "source": [
    "from sklearn.metrics import accuracy_score, classification_report"
   ]
  },
  {
   "cell_type": "code",
   "execution_count": 42,
   "metadata": {},
   "outputs": [
    {
     "name": "stdout",
     "output_type": "stream",
     "text": [
      "              precision    recall  f1-score   support\n",
      "\n",
      "           0       0.93      0.96      0.95      2557\n",
      "           1       0.75      0.61      0.68       482\n",
      "\n",
      "    accuracy                           0.91      3039\n",
      "   macro avg       0.84      0.79      0.81      3039\n",
      "weighted avg       0.90      0.91      0.90      3039\n",
      "\n"
     ]
    }
   ],
   "source": [
    "print(classification_report(y_test,pre1d))"
   ]
  },
  {
   "cell_type": "markdown",
   "metadata": {},
   "source": [
    "# But here as we know the data is imbalanced"
   ]
  },
  {
   "cell_type": "code",
   "execution_count": 43,
   "metadata": {},
   "outputs": [],
   "source": [
    "from imblearn.over_sampling import SMOTE"
   ]
  },
  {
   "cell_type": "code",
   "execution_count": 44,
   "metadata": {},
   "outputs": [],
   "source": [
    "smote= SMOTE(sampling_strategy= 'minority')"
   ]
  },
  {
   "cell_type": "code",
   "execution_count": 45,
   "metadata": {},
   "outputs": [
    {
     "data": {
      "text/plain": [
       "0    8500\n",
       "1    1627\n",
       "Name: Attrition_Flag, dtype: int64"
      ]
     },
     "execution_count": 45,
     "metadata": {},
     "output_type": "execute_result"
    }
   ],
   "source": [
    "y.value_counts()"
   ]
  },
  {
   "cell_type": "code",
   "execution_count": 49,
   "metadata": {},
   "outputs": [],
   "source": [
    "X_sm, y_sm= smote.fit_resample(X_train,y_train)"
   ]
  },
  {
   "cell_type": "code",
   "execution_count": 50,
   "metadata": {},
   "outputs": [
    {
     "data": {
      "text/plain": [
       "((7088, 32), (7088,))"
      ]
     },
     "execution_count": 50,
     "metadata": {},
     "output_type": "execute_result"
    }
   ],
   "source": [
    "(X_train.shape,y_train.shape)"
   ]
  },
  {
   "cell_type": "code",
   "execution_count": 51,
   "metadata": {},
   "outputs": [
    {
     "data": {
      "text/plain": [
       "((11886, 32), (11886,))"
      ]
     },
     "execution_count": 51,
     "metadata": {},
     "output_type": "execute_result"
    }
   ],
   "source": [
    "X_sm.shape, y_sm.shape"
   ]
  },
  {
   "cell_type": "code",
   "execution_count": 52,
   "metadata": {},
   "outputs": [
    {
     "data": {
      "text/plain": [
       "1    5943\n",
       "0    5943\n",
       "Name: Attrition_Flag, dtype: int64"
      ]
     },
     "execution_count": 52,
     "metadata": {},
     "output_type": "execute_result"
    }
   ],
   "source": [
    "y_sm.value_counts()"
   ]
  },
  {
   "cell_type": "code",
   "execution_count": 53,
   "metadata": {},
   "outputs": [
    {
     "data": {
      "text/plain": [
       "LogisticRegression()"
      ]
     },
     "execution_count": 53,
     "metadata": {},
     "output_type": "execute_result"
    }
   ],
   "source": [
    "lm.fit(X_sm,y_sm)"
   ]
  },
  {
   "cell_type": "code",
   "execution_count": 54,
   "metadata": {},
   "outputs": [],
   "source": [
    "pred2=lm.predict(X_test)"
   ]
  },
  {
   "cell_type": "code",
   "execution_count": 55,
   "metadata": {},
   "outputs": [
    {
     "name": "stdout",
     "output_type": "stream",
     "text": [
      "              precision    recall  f1-score   support\n",
      "\n",
      "           0       0.97      0.85      0.90      2557\n",
      "           1       0.52      0.85      0.64       482\n",
      "\n",
      "    accuracy                           0.85      3039\n",
      "   macro avg       0.74      0.85      0.77      3039\n",
      "weighted avg       0.90      0.85      0.86      3039\n",
      "\n"
     ]
    }
   ],
   "source": [
    "print(classification_report(y_test,pred2))"
   ]
  },
  {
   "cell_type": "code",
   "execution_count": 56,
   "metadata": {},
   "outputs": [],
   "source": [
    "from sklearn.ensemble import RandomForestClassifier"
   ]
  },
  {
   "cell_type": "code",
   "execution_count": 57,
   "metadata": {},
   "outputs": [],
   "source": [
    "rf = RandomForestClassifier(random_state = 1010)"
   ]
  },
  {
   "cell_type": "code",
   "execution_count": 58,
   "metadata": {},
   "outputs": [
    {
     "data": {
      "text/plain": [
       "RandomForestClassifier(random_state=1010)"
      ]
     },
     "execution_count": 58,
     "metadata": {},
     "output_type": "execute_result"
    }
   ],
   "source": [
    "rf.fit(X_train,y_train)"
   ]
  },
  {
   "cell_type": "code",
   "execution_count": 60,
   "metadata": {},
   "outputs": [],
   "source": [
    "pred_rm=rf.predict(X_test)"
   ]
  },
  {
   "cell_type": "code",
   "execution_count": 61,
   "metadata": {},
   "outputs": [
    {
     "name": "stdout",
     "output_type": "stream",
     "text": [
      "              precision    recall  f1-score   support\n",
      "\n",
      "           0       0.97      0.98      0.97      2557\n",
      "           1       0.90      0.81      0.85       482\n",
      "\n",
      "    accuracy                           0.96      3039\n",
      "   macro avg       0.93      0.90      0.91      3039\n",
      "weighted avg       0.95      0.96      0.95      3039\n",
      "\n"
     ]
    }
   ],
   "source": [
    "print(classification_report(y_test,pred_rm))"
   ]
  },
  {
   "cell_type": "code",
   "execution_count": 67,
   "metadata": {},
   "outputs": [
    {
     "data": {
      "text/plain": [
       "(7088, 32)"
      ]
     },
     "execution_count": 67,
     "metadata": {},
     "output_type": "execute_result"
    }
   ],
   "source": [
    "X_train.shape"
   ]
  },
  {
   "cell_type": "code",
   "execution_count": 62,
   "metadata": {},
   "outputs": [],
   "source": [
    "import tensorflow as tf\n",
    "from tensorflow import keras"
   ]
  },
  {
   "cell_type": "code",
   "execution_count": 68,
   "metadata": {},
   "outputs": [],
   "source": [
    "from tensorflow.keras.models import Sequential # this library is responsible for creating neural networs it should be always installed \n",
    "from tensorflow.keras.layers import Dense, LeakyReLU, PReLU, ELU, Dropout, Activation, Flatten, BatchNormalization"
   ]
  },
  {
   "cell_type": "code",
   "execution_count": 69,
   "metadata": {},
   "outputs": [],
   "source": [
    "classifier= Sequential()"
   ]
  },
  {
   "cell_type": "code",
   "execution_count": 70,
   "metadata": {},
   "outputs": [],
   "source": [
    "classifier.add(Dense(units = 20, kernel_initializer = 'he_uniform', activation= 'relu', input_dim = 32))\n",
    "classifier.add(Dense(units = 15, kernel_initializer = 'he_uniform', activation= 'relu'))"
   ]
  },
  {
   "cell_type": "code",
   "execution_count": 71,
   "metadata": {},
   "outputs": [],
   "source": [
    "classifier.add(Dense(units = 1, kernel_initializer = 'glorot_uniform', activation= 'sigmoid'))"
   ]
  },
  {
   "cell_type": "code",
   "execution_count": 72,
   "metadata": {},
   "outputs": [],
   "source": [
    "classifier.compile(optimizer= 'adam', loss= 'binary_crossentropy', metrics=['accuracy'])"
   ]
  },
  {
   "cell_type": "code",
   "execution_count": 73,
   "metadata": {},
   "outputs": [
    {
     "name": "stdout",
     "output_type": "stream",
     "text": [
      "Model: \"sequential\"\n",
      "_________________________________________________________________\n",
      "Layer (type)                 Output Shape              Param #   \n",
      "=================================================================\n",
      "dense (Dense)                (None, 20)                660       \n",
      "_________________________________________________________________\n",
      "dense_1 (Dense)              (None, 15)                315       \n",
      "_________________________________________________________________\n",
      "dense_2 (Dense)              (None, 1)                 16        \n",
      "=================================================================\n",
      "Total params: 991\n",
      "Trainable params: 991\n",
      "Non-trainable params: 0\n",
      "_________________________________________________________________\n"
     ]
    }
   ],
   "source": [
    "classifier.summary()"
   ]
  },
  {
   "cell_type": "code",
   "execution_count": 74,
   "metadata": {},
   "outputs": [
    {
     "name": "stdout",
     "output_type": "stream",
     "text": [
      "Epoch 1/100\n",
      "475/475 [==============================] - 1s 1ms/step - loss: 0.4109 - accuracy: 0.8328 - val_loss: 0.3321 - val_accuracy: 0.8615\n",
      "Epoch 2/100\n",
      "475/475 [==============================] - 1s 1ms/step - loss: 0.3013 - accuracy: 0.8802 - val_loss: 0.2859 - val_accuracy: 0.8863\n",
      "Epoch 3/100\n",
      "475/475 [==============================] - 0s 882us/step - loss: 0.2658 - accuracy: 0.8968 - val_loss: 0.2625 - val_accuracy: 0.9013\n",
      "Epoch 4/100\n",
      "475/475 [==============================] - 0s 827us/step - loss: 0.2406 - accuracy: 0.9042 - val_loss: 0.2507 - val_accuracy: 0.9021\n",
      "Epoch 5/100\n",
      "475/475 [==============================] - 0s 825us/step - loss: 0.2242 - accuracy: 0.9120 - val_loss: 0.2381 - val_accuracy: 0.9060\n",
      "Epoch 6/100\n",
      "475/475 [==============================] - 0s 820us/step - loss: 0.2097 - accuracy: 0.9162 - val_loss: 0.2296 - val_accuracy: 0.9085\n",
      "Epoch 7/100\n",
      "475/475 [==============================] - 0s 843us/step - loss: 0.1966 - accuracy: 0.9221 - val_loss: 0.2221 - val_accuracy: 0.9128\n",
      "Epoch 8/100\n",
      "475/475 [==============================] - 0s 832us/step - loss: 0.1853 - accuracy: 0.9257 - val_loss: 0.2228 - val_accuracy: 0.9107\n",
      "Epoch 9/100\n",
      "475/475 [==============================] - 0s 818us/step - loss: 0.1763 - accuracy: 0.9318 - val_loss: 0.2134 - val_accuracy: 0.9158\n",
      "Epoch 10/100\n",
      "475/475 [==============================] - 0s 843us/step - loss: 0.1713 - accuracy: 0.9320 - val_loss: 0.2077 - val_accuracy: 0.9179\n",
      "Epoch 11/100\n",
      "475/475 [==============================] - 0s 828us/step - loss: 0.1640 - accuracy: 0.9345 - val_loss: 0.2093 - val_accuracy: 0.9175\n",
      "Epoch 12/100\n",
      "475/475 [==============================] - 0s 885us/step - loss: 0.1596 - accuracy: 0.9356 - val_loss: 0.2100 - val_accuracy: 0.9188\n",
      "Epoch 13/100\n",
      "475/475 [==============================] - 0s 848us/step - loss: 0.1553 - accuracy: 0.9374 - val_loss: 0.1997 - val_accuracy: 0.9188\n",
      "Epoch 14/100\n",
      "475/475 [==============================] - 0s 834us/step - loss: 0.1503 - accuracy: 0.9414 - val_loss: 0.2020 - val_accuracy: 0.9175\n",
      "Epoch 15/100\n",
      "475/475 [==============================] - 0s 850us/step - loss: 0.1469 - accuracy: 0.9408 - val_loss: 0.2039 - val_accuracy: 0.9205\n",
      "Epoch 16/100\n",
      "475/475 [==============================] - 0s 849us/step - loss: 0.1444 - accuracy: 0.9412 - val_loss: 0.2005 - val_accuracy: 0.9214\n",
      "Epoch 17/100\n",
      "475/475 [==============================] - 0s 801us/step - loss: 0.1407 - accuracy: 0.9410 - val_loss: 0.2033 - val_accuracy: 0.9192\n",
      "Epoch 18/100\n",
      "475/475 [==============================] - 0s 1ms/step - loss: 0.1393 - accuracy: 0.9442 - val_loss: 0.2036 - val_accuracy: 0.9218\n",
      "Epoch 19/100\n",
      "475/475 [==============================] - 0s 932us/step - loss: 0.1364 - accuracy: 0.9431 - val_loss: 0.2044 - val_accuracy: 0.9209\n",
      "Epoch 20/100\n",
      "475/475 [==============================] - 0s 888us/step - loss: 0.1335 - accuracy: 0.9469 - val_loss: 0.2039 - val_accuracy: 0.9214\n",
      "Epoch 21/100\n",
      "475/475 [==============================] - 0s 880us/step - loss: 0.1294 - accuracy: 0.9482 - val_loss: 0.2021 - val_accuracy: 0.9179\n",
      "Epoch 22/100\n",
      "475/475 [==============================] - 0s 843us/step - loss: 0.1288 - accuracy: 0.9478 - val_loss: 0.2002 - val_accuracy: 0.9244\n",
      "Epoch 23/100\n",
      "475/475 [==============================] - 0s 977us/step - loss: 0.1245 - accuracy: 0.9501 - val_loss: 0.2082 - val_accuracy: 0.9214\n",
      "Epoch 24/100\n",
      "475/475 [==============================] - 0s 936us/step - loss: 0.1227 - accuracy: 0.9522 - val_loss: 0.2133 - val_accuracy: 0.9214\n",
      "Epoch 25/100\n",
      "475/475 [==============================] - 0s 838us/step - loss: 0.1216 - accuracy: 0.9490 - val_loss: 0.2136 - val_accuracy: 0.9205\n",
      "Epoch 26/100\n",
      "475/475 [==============================] - 0s 853us/step - loss: 0.1197 - accuracy: 0.9518 - val_loss: 0.2126 - val_accuracy: 0.9248\n",
      "Epoch 27/100\n",
      "475/475 [==============================] - 0s 853us/step - loss: 0.1182 - accuracy: 0.9522 - val_loss: 0.2091 - val_accuracy: 0.9209\n",
      "Epoch 28/100\n",
      "475/475 [==============================] - 0s 859us/step - loss: 0.1161 - accuracy: 0.9530 - val_loss: 0.2148 - val_accuracy: 0.9244\n",
      "Epoch 29/100\n",
      "475/475 [==============================] - 1s 1ms/step - loss: 0.1142 - accuracy: 0.9543 - val_loss: 0.2113 - val_accuracy: 0.9226\n",
      "Epoch 30/100\n",
      "475/475 [==============================] - 1s 1ms/step - loss: 0.1149 - accuracy: 0.9530 - val_loss: 0.2119 - val_accuracy: 0.9226\n",
      "Epoch 31/100\n",
      "475/475 [==============================] - 0s 901us/step - loss: 0.1120 - accuracy: 0.9553 - val_loss: 0.2182 - val_accuracy: 0.9158\n",
      "Epoch 32/100\n",
      "475/475 [==============================] - 0s 913us/step - loss: 0.1103 - accuracy: 0.9537 - val_loss: 0.2198 - val_accuracy: 0.9214\n",
      "Epoch 33/100\n",
      "475/475 [==============================] - 0s 864us/step - loss: 0.1087 - accuracy: 0.9562 - val_loss: 0.2231 - val_accuracy: 0.9226\n",
      "Epoch 34/100\n",
      "475/475 [==============================] - 0s 902us/step - loss: 0.1067 - accuracy: 0.9572 - val_loss: 0.2282 - val_accuracy: 0.9158\n",
      "Epoch 35/100\n",
      "475/475 [==============================] - 0s 976us/step - loss: 0.1066 - accuracy: 0.9575 - val_loss: 0.2202 - val_accuracy: 0.9214\n",
      "Epoch 36/100\n",
      "475/475 [==============================] - 1s 1ms/step - loss: 0.1055 - accuracy: 0.9558 - val_loss: 0.2254 - val_accuracy: 0.9231\n",
      "Epoch 37/100\n",
      "475/475 [==============================] - 0s 979us/step - loss: 0.1042 - accuracy: 0.9581 - val_loss: 0.2276 - val_accuracy: 0.9201\n",
      "Epoch 38/100\n",
      "475/475 [==============================] - 0s 869us/step - loss: 0.1029 - accuracy: 0.9570 - val_loss: 0.2249 - val_accuracy: 0.9167\n",
      "Epoch 39/100\n",
      "475/475 [==============================] - 0s 861us/step - loss: 0.1013 - accuracy: 0.9589 - val_loss: 0.2349 - val_accuracy: 0.9209\n",
      "Epoch 40/100\n",
      "475/475 [==============================] - 0s 858us/step - loss: 0.0998 - accuracy: 0.9596 - val_loss: 0.2290 - val_accuracy: 0.9231\n",
      "Epoch 41/100\n",
      "475/475 [==============================] - 0s 981us/step - loss: 0.1007 - accuracy: 0.9591 - val_loss: 0.2309 - val_accuracy: 0.9184\n",
      "Epoch 42/100\n",
      "475/475 [==============================] - 1s 1ms/step - loss: 0.0986 - accuracy: 0.9591 - val_loss: 0.2344 - val_accuracy: 0.9231\n",
      "Epoch 43/100\n",
      "475/475 [==============================] - 0s 924us/step - loss: 0.0972 - accuracy: 0.9604 - val_loss: 0.2310 - val_accuracy: 0.9248\n",
      "Epoch 44/100\n",
      "475/475 [==============================] - 0s 1ms/step - loss: 0.0971 - accuracy: 0.9604 - val_loss: 0.2309 - val_accuracy: 0.9218\n",
      "Epoch 45/100\n",
      "475/475 [==============================] - 0s 930us/step - loss: 0.0946 - accuracy: 0.9625 - val_loss: 0.2331 - val_accuracy: 0.9218\n",
      "Epoch 46/100\n",
      "475/475 [==============================] - 0s 890us/step - loss: 0.0945 - accuracy: 0.9606 - val_loss: 0.2374 - val_accuracy: 0.9231\n",
      "Epoch 47/100\n",
      "475/475 [==============================] - 0s 883us/step - loss: 0.0931 - accuracy: 0.9610 - val_loss: 0.2341 - val_accuracy: 0.9214\n",
      "Epoch 48/100\n",
      "475/475 [==============================] - 0s 887us/step - loss: 0.0917 - accuracy: 0.9625 - val_loss: 0.2442 - val_accuracy: 0.9214\n",
      "Epoch 49/100\n",
      "475/475 [==============================] - 0s 851us/step - loss: 0.0915 - accuracy: 0.9631 - val_loss: 0.2463 - val_accuracy: 0.9184\n",
      "Epoch 50/100\n",
      "475/475 [==============================] - 0s 870us/step - loss: 0.0899 - accuracy: 0.9623 - val_loss: 0.2416 - val_accuracy: 0.9239\n",
      "Epoch 51/100\n",
      "475/475 [==============================] - 0s 905us/step - loss: 0.0889 - accuracy: 0.9636 - val_loss: 0.2497 - val_accuracy: 0.9188\n",
      "Epoch 52/100\n",
      "475/475 [==============================] - 0s 894us/step - loss: 0.0866 - accuracy: 0.9661 - val_loss: 0.2429 - val_accuracy: 0.9197\n",
      "Epoch 53/100\n",
      "475/475 [==============================] - 1s 1ms/step - loss: 0.0875 - accuracy: 0.9657 - val_loss: 0.2548 - val_accuracy: 0.9214\n",
      "Epoch 54/100\n",
      "475/475 [==============================] - 1s 1ms/step - loss: 0.0865 - accuracy: 0.9652 - val_loss: 0.2513 - val_accuracy: 0.9201\n",
      "Epoch 55/100\n",
      "475/475 [==============================] - 0s 808us/step - loss: 0.0855 - accuracy: 0.9640 - val_loss: 0.2543 - val_accuracy: 0.9179\n",
      "Epoch 56/100\n",
      "475/475 [==============================] - 0s 875us/step - loss: 0.0842 - accuracy: 0.9627 - val_loss: 0.2479 - val_accuracy: 0.9226\n",
      "Epoch 57/100\n",
      "475/475 [==============================] - 0s 856us/step - loss: 0.0840 - accuracy: 0.9659 - val_loss: 0.2540 - val_accuracy: 0.9226\n",
      "Epoch 58/100\n",
      "475/475 [==============================] - 0s 864us/step - loss: 0.0799 - accuracy: 0.9680 - val_loss: 0.2639 - val_accuracy: 0.9201\n",
      "Epoch 59/100\n",
      "475/475 [==============================] - 0s 930us/step - loss: 0.0794 - accuracy: 0.9680 - val_loss: 0.2646 - val_accuracy: 0.9192\n",
      "Epoch 60/100\n",
      "475/475 [==============================] - 0s 976us/step - loss: 0.0790 - accuracy: 0.9669 - val_loss: 0.2608 - val_accuracy: 0.9188\n",
      "Epoch 61/100\n",
      "475/475 [==============================] - 0s 894us/step - loss: 0.0790 - accuracy: 0.9669 - val_loss: 0.2603 - val_accuracy: 0.9235\n",
      "Epoch 62/100\n",
      "475/475 [==============================] - 0s 842us/step - loss: 0.0766 - accuracy: 0.9709 - val_loss: 0.2682 - val_accuracy: 0.9197\n",
      "Epoch 63/100\n",
      "475/475 [==============================] - 0s 901us/step - loss: 0.0766 - accuracy: 0.9682 - val_loss: 0.2659 - val_accuracy: 0.9162\n",
      "Epoch 64/100\n",
      "475/475 [==============================] - 0s 833us/step - loss: 0.0732 - accuracy: 0.9709 - val_loss: 0.2764 - val_accuracy: 0.9184\n",
      "Epoch 65/100\n",
      "475/475 [==============================] - 0s 864us/step - loss: 0.0746 - accuracy: 0.9693 - val_loss: 0.2732 - val_accuracy: 0.9214\n",
      "Epoch 66/100\n",
      "475/475 [==============================] - 0s 862us/step - loss: 0.0713 - accuracy: 0.9726 - val_loss: 0.2784 - val_accuracy: 0.9188\n",
      "Epoch 67/100\n",
      "475/475 [==============================] - 0s 930us/step - loss: 0.0734 - accuracy: 0.9718 - val_loss: 0.2801 - val_accuracy: 0.9222\n",
      "Epoch 68/100\n",
      "475/475 [==============================] - 0s 832us/step - loss: 0.0729 - accuracy: 0.9718 - val_loss: 0.2783 - val_accuracy: 0.9154\n",
      "Epoch 69/100\n",
      "475/475 [==============================] - 0s 853us/step - loss: 0.0699 - accuracy: 0.9730 - val_loss: 0.2825 - val_accuracy: 0.9197\n",
      "Epoch 70/100\n",
      "475/475 [==============================] - 0s 893us/step - loss: 0.0672 - accuracy: 0.9722 - val_loss: 0.2847 - val_accuracy: 0.9209\n",
      "Epoch 71/100\n",
      "475/475 [==============================] - 0s 864us/step - loss: 0.0656 - accuracy: 0.9758 - val_loss: 0.2975 - val_accuracy: 0.9209\n",
      "Epoch 72/100\n",
      "475/475 [==============================] - 0s 886us/step - loss: 0.0660 - accuracy: 0.9743 - val_loss: 0.2947 - val_accuracy: 0.9205\n",
      "Epoch 73/100\n",
      "475/475 [==============================] - 0s 862us/step - loss: 0.0676 - accuracy: 0.9711 - val_loss: 0.2927 - val_accuracy: 0.9184\n",
      "Epoch 74/100\n",
      "475/475 [==============================] - 0s 871us/step - loss: 0.0640 - accuracy: 0.9754 - val_loss: 0.3055 - val_accuracy: 0.9188\n",
      "Epoch 75/100\n",
      "475/475 [==============================] - 0s 898us/step - loss: 0.0623 - accuracy: 0.9764 - val_loss: 0.3012 - val_accuracy: 0.9214\n",
      "Epoch 76/100\n",
      "475/475 [==============================] - 1s 1ms/step - loss: 0.0617 - accuracy: 0.9768 - val_loss: 0.3074 - val_accuracy: 0.9171\n",
      "Epoch 77/100\n",
      "475/475 [==============================] - 0s 875us/step - loss: 0.0618 - accuracy: 0.9766 - val_loss: 0.3074 - val_accuracy: 0.9145\n",
      "Epoch 78/100\n",
      "475/475 [==============================] - 0s 868us/step - loss: 0.0622 - accuracy: 0.9751 - val_loss: 0.3042 - val_accuracy: 0.9205\n",
      "Epoch 79/100\n",
      "475/475 [==============================] - 0s 873us/step - loss: 0.0603 - accuracy: 0.9770 - val_loss: 0.3200 - val_accuracy: 0.9205\n",
      "Epoch 80/100\n",
      "475/475 [==============================] - 0s 877us/step - loss: 0.0599 - accuracy: 0.9787 - val_loss: 0.3192 - val_accuracy: 0.9188\n",
      "Epoch 81/100\n",
      "475/475 [==============================] - 0s 879us/step - loss: 0.0585 - accuracy: 0.9762 - val_loss: 0.3187 - val_accuracy: 0.9214\n",
      "Epoch 82/100\n",
      "475/475 [==============================] - 0s 981us/step - loss: 0.0591 - accuracy: 0.9777 - val_loss: 0.3260 - val_accuracy: 0.9209\n",
      "Epoch 83/100\n",
      "475/475 [==============================] - 1s 1ms/step - loss: 0.0568 - accuracy: 0.9781 - val_loss: 0.3285 - val_accuracy: 0.9192\n",
      "Epoch 84/100\n",
      "475/475 [==============================] - 0s 838us/step - loss: 0.0568 - accuracy: 0.9764 - val_loss: 0.3399 - val_accuracy: 0.9171\n",
      "Epoch 85/100\n",
      "475/475 [==============================] - 0s 879us/step - loss: 0.0559 - accuracy: 0.9787 - val_loss: 0.3258 - val_accuracy: 0.9201\n",
      "Epoch 86/100\n",
      "475/475 [==============================] - 0s 911us/step - loss: 0.0543 - accuracy: 0.9783 - val_loss: 0.3379 - val_accuracy: 0.9167\n",
      "Epoch 87/100\n",
      "475/475 [==============================] - 0s 869us/step - loss: 0.0569 - accuracy: 0.9777 - val_loss: 0.3353 - val_accuracy: 0.9167\n",
      "Epoch 88/100\n",
      "475/475 [==============================] - 0s 829us/step - loss: 0.0535 - accuracy: 0.9798 - val_loss: 0.3505 - val_accuracy: 0.9184\n",
      "Epoch 89/100\n",
      "475/475 [==============================] - 1s 1ms/step - loss: 0.0519 - accuracy: 0.9802 - val_loss: 0.3453 - val_accuracy: 0.9218\n",
      "Epoch 90/100\n",
      "475/475 [==============================] - 0s 901us/step - loss: 0.0512 - accuracy: 0.9815 - val_loss: 0.3618 - val_accuracy: 0.9192\n",
      "Epoch 91/100\n",
      "475/475 [==============================] - 0s 886us/step - loss: 0.0543 - accuracy: 0.9791 - val_loss: 0.3664 - val_accuracy: 0.9192\n",
      "Epoch 92/100\n",
      "475/475 [==============================] - 0s 877us/step - loss: 0.0494 - accuracy: 0.9832 - val_loss: 0.3610 - val_accuracy: 0.9171\n",
      "Epoch 93/100\n",
      "475/475 [==============================] - 0s 848us/step - loss: 0.0500 - accuracy: 0.9815 - val_loss: 0.3671 - val_accuracy: 0.9162\n",
      "Epoch 94/100\n",
      "475/475 [==============================] - 0s 1ms/step - loss: 0.0491 - accuracy: 0.9802 - val_loss: 0.3631 - val_accuracy: 0.9218\n",
      "Epoch 95/100\n",
      "475/475 [==============================] - 0s 866us/step - loss: 0.0486 - accuracy: 0.9829 - val_loss: 0.3697 - val_accuracy: 0.9179\n",
      "Epoch 96/100\n",
      "475/475 [==============================] - 0s 872us/step - loss: 0.0469 - accuracy: 0.9834 - val_loss: 0.3726 - val_accuracy: 0.9150\n",
      "Epoch 97/100\n",
      "475/475 [==============================] - 0s 878us/step - loss: 0.0463 - accuracy: 0.9817 - val_loss: 0.3912 - val_accuracy: 0.9171\n",
      "Epoch 98/100\n",
      "475/475 [==============================] - 0s 833us/step - loss: 0.0447 - accuracy: 0.9827 - val_loss: 0.3854 - val_accuracy: 0.9137\n",
      "Epoch 99/100\n",
      "475/475 [==============================] - 0s 838us/step - loss: 0.0463 - accuracy: 0.9817 - val_loss: 0.4143 - val_accuracy: 0.9115\n",
      "Epoch 100/100\n",
      "475/475 [==============================] - 0s 916us/step - loss: 0.0450 - accuracy: 0.9850 - val_loss: 0.3920 - val_accuracy: 0.9154\n"
     ]
    }
   ],
   "source": [
    "model_history=classifier.fit(X_train, y_train,validation_split=0.33, batch_size = 10, epochs = 100)"
   ]
  },
  {
   "cell_type": "code",
   "execution_count": 77,
   "metadata": {},
   "outputs": [
    {
     "name": "stdout",
     "output_type": "stream",
     "text": [
      "95/95 [==============================] - 0s 806us/step - loss: 0.4081 - accuracy: 0.9098\n"
     ]
    },
    {
     "data": {
      "text/plain": [
       "[0.40814340114593506, 0.9098387360572815]"
      ]
     },
     "execution_count": 77,
     "metadata": {},
     "output_type": "execute_result"
    }
   ],
   "source": [
    "classifier.evaluate(X_test,y_test)"
   ]
  },
  {
   "cell_type": "code",
   "execution_count": 75,
   "metadata": {},
   "outputs": [],
   "source": [
    "y_pred = classifier.predict(X_test)"
   ]
  },
  {
   "cell_type": "code",
   "execution_count": 78,
   "metadata": {},
   "outputs": [],
   "source": [
    "y_pred = (y_pred > 0.5)"
   ]
  },
  {
   "cell_type": "code",
   "execution_count": 85,
   "metadata": {},
   "outputs": [
    {
     "data": {
      "text/plain": [
       "array([[False],\n",
       "       [ True],\n",
       "       [False],\n",
       "       ...,\n",
       "       [False],\n",
       "       [False],\n",
       "       [False]])"
      ]
     },
     "execution_count": 85,
     "metadata": {},
     "output_type": "execute_result"
    }
   ],
   "source": [
    "y_pred"
   ]
  },
  {
   "cell_type": "code",
   "execution_count": 86,
   "metadata": {},
   "outputs": [
    {
     "data": {
      "text/plain": [
       "((3039,), (3039, 1))"
      ]
     },
     "execution_count": 86,
     "metadata": {},
     "output_type": "execute_result"
    }
   ],
   "source": [
    "y_test.shape,y_pred.shape"
   ]
  },
  {
   "cell_type": "code",
   "execution_count": 87,
   "metadata": {},
   "outputs": [
    {
     "name": "stdout",
     "output_type": "stream",
     "text": [
      "              precision    recall  f1-score   support\n",
      "\n",
      "           0       0.95      0.94      0.95      2557\n",
      "           1       0.70      0.75      0.72       482\n",
      "\n",
      "    accuracy                           0.91      3039\n",
      "   macro avg       0.83      0.84      0.84      3039\n",
      "weighted avg       0.91      0.91      0.91      3039\n",
      "\n"
     ]
    }
   ],
   "source": [
    "print(classification_report(y_test,y_pred))"
   ]
  },
  {
   "cell_type": "code",
   "execution_count": 89,
   "metadata": {},
   "outputs": [],
   "source": [
    "pred_prob2 = classifier.predict_proba(X_test)"
   ]
  },
  {
   "cell_type": "code",
   "execution_count": 90,
   "metadata": {},
   "outputs": [],
   "source": [
    "auc_score2 = roc_auc_score(y_test, pred_prob2)"
   ]
  },
  {
   "cell_type": "code",
   "execution_count": 91,
   "metadata": {},
   "outputs": [
    {
     "data": {
      "text/plain": [
       "0.9397443678325059"
      ]
     },
     "execution_count": 91,
     "metadata": {},
     "output_type": "execute_result"
    }
   ],
   "source": [
    "auc_score2"
   ]
  },
  {
   "cell_type": "code",
   "execution_count": 92,
   "metadata": {},
   "outputs": [
    {
     "data": {
      "text/plain": [
       "0    5943\n",
       "1    1145\n",
       "Name: Attrition_Flag, dtype: int64"
      ]
     },
     "execution_count": 92,
     "metadata": {},
     "output_type": "execute_result"
    }
   ],
   "source": [
    "y_train.value_counts()"
   ]
  },
  {
   "cell_type": "code",
   "execution_count": 93,
   "metadata": {},
   "outputs": [],
   "source": [
    "weights_assigned={0:1,1:5}"
   ]
  },
  {
   "cell_type": "code",
   "execution_count": 94,
   "metadata": {},
   "outputs": [
    {
     "name": "stdout",
     "output_type": "stream",
     "text": [
      "WARNING:tensorflow:From C:\\Anaconda folder\\lib\\site-packages\\tensorflow\\python\\ops\\array_ops.py:5043: calling gather (from tensorflow.python.ops.array_ops) with validate_indices is deprecated and will be removed in a future version.\n",
      "Instructions for updating:\n",
      "The `validate_indices` argument has no effect. Indices are always validated on CPU and never validated on GPU.\n",
      "Epoch 1/100\n",
      "475/475 [==============================] - 1s 1ms/step - loss: 0.1402 - accuracy: 0.9615 - val_loss: 0.4354 - val_accuracy: 0.9013\n",
      "Epoch 2/100\n",
      "475/475 [==============================] - 1s 1ms/step - loss: 0.1151 - accuracy: 0.9686 - val_loss: 0.4095 - val_accuracy: 0.9120\n",
      "Epoch 3/100\n",
      "475/475 [==============================] - 1s 1ms/step - loss: 0.0950 - accuracy: 0.9760 - val_loss: 0.4142 - val_accuracy: 0.9111\n",
      "Epoch 4/100\n",
      "475/475 [==============================] - 1s 1ms/step - loss: 0.0976 - accuracy: 0.9754 - val_loss: 0.4167 - val_accuracy: 0.9124\n",
      "Epoch 5/100\n",
      "475/475 [==============================] - 1s 1ms/step - loss: 0.0904 - accuracy: 0.9773 - val_loss: 0.4185 - val_accuracy: 0.9124\n",
      "Epoch 6/100\n",
      "475/475 [==============================] - 1s 1ms/step - loss: 0.0878 - accuracy: 0.9760 - val_loss: 0.4310 - val_accuracy: 0.9128\n",
      "Epoch 7/100\n",
      "475/475 [==============================] - 1s 1ms/step - loss: 0.0898 - accuracy: 0.9766 - val_loss: 0.4433 - val_accuracy: 0.9094\n",
      "Epoch 8/100\n",
      "475/475 [==============================] - 1s 1ms/step - loss: 0.0842 - accuracy: 0.9768 - val_loss: 0.4678 - val_accuracy: 0.9068\n",
      "Epoch 9/100\n",
      "475/475 [==============================] - 1s 1ms/step - loss: 0.0847 - accuracy: 0.9773 - val_loss: 0.4515 - val_accuracy: 0.9064\n",
      "Epoch 10/100\n",
      "475/475 [==============================] - 1s 1ms/step - loss: 0.0880 - accuracy: 0.9751 - val_loss: 0.4733 - val_accuracy: 0.9060\n",
      "Epoch 11/100\n",
      "475/475 [==============================] - 1s 1ms/step - loss: 0.0823 - accuracy: 0.9781 - val_loss: 0.4645 - val_accuracy: 0.9068\n",
      "Epoch 12/100\n",
      "475/475 [==============================] - 1s 1ms/step - loss: 0.0749 - accuracy: 0.9785 - val_loss: 0.4520 - val_accuracy: 0.9081\n",
      "Epoch 13/100\n",
      "475/475 [==============================] - 1s 1ms/step - loss: 0.0807 - accuracy: 0.9796 - val_loss: 0.4855 - val_accuracy: 0.9004\n",
      "Epoch 14/100\n",
      "475/475 [==============================] - 1s 2ms/step - loss: 0.0790 - accuracy: 0.9815 - val_loss: 0.4671 - val_accuracy: 0.9051\n",
      "Epoch 15/100\n",
      "475/475 [==============================] - 1s 2ms/step - loss: 0.0752 - accuracy: 0.9806 - val_loss: 0.4774 - val_accuracy: 0.9056\n",
      "Epoch 16/100\n",
      "475/475 [==============================] - 1s 1ms/step - loss: 0.0794 - accuracy: 0.9783 - val_loss: 0.4891 - val_accuracy: 0.9017\n",
      "Epoch 17/100\n",
      "475/475 [==============================] - 1s 1ms/step - loss: 0.0771 - accuracy: 0.9796 - val_loss: 0.5237 - val_accuracy: 0.9004\n",
      "Epoch 18/100\n",
      "475/475 [==============================] - 1s 1ms/step - loss: 0.0710 - accuracy: 0.9815 - val_loss: 0.4793 - val_accuracy: 0.9107\n",
      "Epoch 19/100\n",
      "475/475 [==============================] - 1s 1ms/step - loss: 0.0693 - accuracy: 0.9808 - val_loss: 0.5162 - val_accuracy: 0.9000\n",
      "Epoch 20/100\n",
      "475/475 [==============================] - 1s 1ms/step - loss: 0.0749 - accuracy: 0.9798 - val_loss: 0.5022 - val_accuracy: 0.9021\n",
      "Epoch 21/100\n",
      "475/475 [==============================] - 1s 1ms/step - loss: 0.0710 - accuracy: 0.9808 - val_loss: 0.5088 - val_accuracy: 0.9094\n",
      "Epoch 22/100\n",
      "475/475 [==============================] - 1s 1ms/step - loss: 0.0651 - accuracy: 0.9827 - val_loss: 0.5171 - val_accuracy: 0.9043\n",
      "Epoch 23/100\n",
      "475/475 [==============================] - 1s 1ms/step - loss: 0.0699 - accuracy: 0.9821 - val_loss: 0.5312 - val_accuracy: 0.9043\n",
      "Epoch 24/100\n",
      "475/475 [==============================] - 1s 1ms/step - loss: 0.0673 - accuracy: 0.9825 - val_loss: 0.5429 - val_accuracy: 0.9021\n",
      "Epoch 25/100\n",
      "475/475 [==============================] - 1s 1ms/step - loss: 0.0642 - accuracy: 0.9832 - val_loss: 0.5404 - val_accuracy: 0.9068\n",
      "Epoch 26/100\n",
      "475/475 [==============================] - 1s 1ms/step - loss: 0.0680 - accuracy: 0.9817 - val_loss: 0.5387 - val_accuracy: 0.9043\n",
      "Epoch 27/100\n",
      "475/475 [==============================] - 1s 1ms/step - loss: 0.0618 - accuracy: 0.9842 - val_loss: 0.5432 - val_accuracy: 0.9051\n",
      "Epoch 28/100\n",
      "475/475 [==============================] - 1s 1ms/step - loss: 0.0686 - accuracy: 0.9821 - val_loss: 0.5656 - val_accuracy: 0.9009\n",
      "Epoch 29/100\n",
      "475/475 [==============================] - 1s 1ms/step - loss: 0.0678 - accuracy: 0.9817 - val_loss: 0.5694 - val_accuracy: 0.9051\n",
      "Epoch 30/100\n",
      "475/475 [==============================] - 1s 1ms/step - loss: 0.0629 - accuracy: 0.9819 - val_loss: 0.5582 - val_accuracy: 0.9064\n",
      "Epoch 31/100\n",
      "475/475 [==============================] - 1s 2ms/step - loss: 0.0615 - accuracy: 0.9850 - val_loss: 0.5927 - val_accuracy: 0.9026\n",
      "Epoch 32/100\n",
      "475/475 [==============================] - 1s 1ms/step - loss: 0.0591 - accuracy: 0.9846 - val_loss: 0.5652 - val_accuracy: 0.9073\n",
      "Epoch 33/100\n",
      "475/475 [==============================] - 1s 2ms/step - loss: 0.0578 - accuracy: 0.9844 - val_loss: 0.6042 - val_accuracy: 0.8970\n",
      "Epoch 34/100\n",
      "475/475 [==============================] - 1s 2ms/step - loss: 0.0542 - accuracy: 0.9853 - val_loss: 0.6060 - val_accuracy: 0.8983\n",
      "Epoch 35/100\n",
      "475/475 [==============================] - 1s 2ms/step - loss: 0.0585 - accuracy: 0.9840 - val_loss: 0.5995 - val_accuracy: 0.9068\n",
      "Epoch 36/100\n",
      "475/475 [==============================] - 1s 1ms/step - loss: 0.0614 - accuracy: 0.9846 - val_loss: 0.6035 - val_accuracy: 0.9021\n",
      "Epoch 37/100\n",
      "475/475 [==============================] - 1s 1ms/step - loss: 0.0782 - accuracy: 0.9821 - val_loss: 0.5794 - val_accuracy: 0.9056\n",
      "Epoch 38/100\n",
      "475/475 [==============================] - 1s 1ms/step - loss: 0.0619 - accuracy: 0.9844 - val_loss: 0.6205 - val_accuracy: 0.9004\n",
      "Epoch 39/100\n",
      "475/475 [==============================] - 1s 1ms/step - loss: 0.0545 - accuracy: 0.9863 - val_loss: 0.5992 - val_accuracy: 0.9051\n",
      "Epoch 40/100\n",
      "475/475 [==============================] - 1s 1ms/step - loss: 0.0510 - accuracy: 0.9878 - val_loss: 0.5960 - val_accuracy: 0.9047\n",
      "Epoch 41/100\n",
      "475/475 [==============================] - 1s 1ms/step - loss: 0.0454 - accuracy: 0.9888 - val_loss: 0.6279 - val_accuracy: 0.9000\n",
      "Epoch 42/100\n",
      "475/475 [==============================] - 1s 2ms/step - loss: 0.0554 - accuracy: 0.9869 - val_loss: 0.6038 - val_accuracy: 0.9021\n",
      "Epoch 43/100\n",
      "475/475 [==============================] - 1s 2ms/step - loss: 0.0628 - accuracy: 0.9848 - val_loss: 0.6139 - val_accuracy: 0.9068\n",
      "Epoch 44/100\n",
      "475/475 [==============================] - 1s 2ms/step - loss: 0.0473 - accuracy: 0.9893 - val_loss: 0.6265 - val_accuracy: 0.9081\n",
      "Epoch 45/100\n",
      "475/475 [==============================] - 1s 1ms/step - loss: 0.0440 - accuracy: 0.9897 - val_loss: 0.6411 - val_accuracy: 0.9009\n",
      "Epoch 46/100\n",
      "475/475 [==============================] - 1s 1ms/step - loss: 0.0419 - accuracy: 0.9901 - val_loss: 0.6320 - val_accuracy: 0.9064\n",
      "Epoch 47/100\n",
      "475/475 [==============================] - 1s 1ms/step - loss: 0.0452 - accuracy: 0.9895 - val_loss: 0.6411 - val_accuracy: 0.9043\n",
      "Epoch 48/100\n",
      "475/475 [==============================] - 1s 1ms/step - loss: 0.0634 - accuracy: 0.9846 - val_loss: 0.6523 - val_accuracy: 0.9004\n",
      "Epoch 49/100\n",
      "475/475 [==============================] - 1s 1ms/step - loss: 0.0428 - accuracy: 0.9903 - val_loss: 0.6370 - val_accuracy: 0.9034\n",
      "Epoch 50/100\n",
      "475/475 [==============================] - 1s 1ms/step - loss: 0.0490 - accuracy: 0.9865 - val_loss: 0.6882 - val_accuracy: 0.8966\n",
      "Epoch 51/100\n",
      "475/475 [==============================] - 1s 2ms/step - loss: 0.0410 - accuracy: 0.9903 - val_loss: 0.6762 - val_accuracy: 0.9000\n",
      "Epoch 52/100\n",
      "475/475 [==============================] - 1s 1ms/step - loss: 0.0513 - accuracy: 0.9888 - val_loss: 0.7263 - val_accuracy: 0.8927\n",
      "Epoch 53/100\n",
      "475/475 [==============================] - 1s 1ms/step - loss: 0.0663 - accuracy: 0.9821 - val_loss: 0.6702 - val_accuracy: 0.9026\n",
      "Epoch 54/100\n",
      "475/475 [==============================] - 1s 1ms/step - loss: 0.0382 - accuracy: 0.9924 - val_loss: 0.6986 - val_accuracy: 0.8987\n",
      "Epoch 55/100\n",
      "475/475 [==============================] - 1s 1ms/step - loss: 0.0379 - accuracy: 0.9912 - val_loss: 0.6884 - val_accuracy: 0.9004\n",
      "Epoch 56/100\n",
      "475/475 [==============================] - 1s 1ms/step - loss: 0.0369 - accuracy: 0.9920 - val_loss: 0.7115 - val_accuracy: 0.8987\n",
      "Epoch 57/100\n",
      "475/475 [==============================] - 1s 2ms/step - loss: 0.0462 - accuracy: 0.9878 - val_loss: 0.6937 - val_accuracy: 0.9056\n",
      "Epoch 58/100\n",
      "475/475 [==============================] - 1s 1ms/step - loss: 0.0434 - accuracy: 0.9890 - val_loss: 0.6921 - val_accuracy: 0.9004\n",
      "Epoch 59/100\n",
      "475/475 [==============================] - 1s 1ms/step - loss: 0.0597 - accuracy: 0.9844 - val_loss: 0.7046 - val_accuracy: 0.9051\n",
      "Epoch 60/100\n",
      "475/475 [==============================] - 1s 1ms/step - loss: 0.0419 - accuracy: 0.9895 - val_loss: 0.7102 - val_accuracy: 0.8983\n",
      "Epoch 61/100\n",
      "475/475 [==============================] - 1s 1ms/step - loss: 0.0335 - accuracy: 0.9926 - val_loss: 0.7095 - val_accuracy: 0.9000\n",
      "Epoch 62/100\n",
      "475/475 [==============================] - 1s 1ms/step - loss: 0.0370 - accuracy: 0.9909 - val_loss: 0.7136 - val_accuracy: 0.9009\n",
      "Epoch 63/100\n",
      "475/475 [==============================] - 1s 1ms/step - loss: 0.0343 - accuracy: 0.9912 - val_loss: 0.7290 - val_accuracy: 0.9038\n",
      "Epoch 64/100\n",
      "475/475 [==============================] - 1s 2ms/step - loss: 0.0435 - accuracy: 0.9895 - val_loss: 0.7603 - val_accuracy: 0.8996\n",
      "Epoch 65/100\n",
      "475/475 [==============================] - 1s 2ms/step - loss: 0.0549 - accuracy: 0.9863 - val_loss: 0.7570 - val_accuracy: 0.8953\n",
      "Epoch 66/100\n",
      "475/475 [==============================] - 1s 1ms/step - loss: 0.0643 - accuracy: 0.9836 - val_loss: 0.7633 - val_accuracy: 0.8987\n",
      "Epoch 67/100\n",
      "475/475 [==============================] - 1s 1ms/step - loss: 0.0410 - accuracy: 0.9907 - val_loss: 0.7410 - val_accuracy: 0.9004\n",
      "Epoch 68/100\n",
      "475/475 [==============================] - 1s 1ms/step - loss: 0.0377 - accuracy: 0.9918 - val_loss: 0.7980 - val_accuracy: 0.8953\n",
      "Epoch 69/100\n",
      "475/475 [==============================] - 1s 1ms/step - loss: 0.0342 - accuracy: 0.9924 - val_loss: 0.7222 - val_accuracy: 0.9043\n",
      "Epoch 70/100\n",
      "475/475 [==============================] - 1s 1ms/step - loss: 0.0287 - accuracy: 0.9943 - val_loss: 0.7444 - val_accuracy: 0.9043\n",
      "Epoch 71/100\n",
      "475/475 [==============================] - 1s 1ms/step - loss: 0.0273 - accuracy: 0.9947 - val_loss: 0.7426 - val_accuracy: 0.9017\n",
      "Epoch 72/100\n",
      "475/475 [==============================] - 1s 1ms/step - loss: 0.0364 - accuracy: 0.9903 - val_loss: 0.7585 - val_accuracy: 0.9009\n",
      "Epoch 73/100\n",
      "475/475 [==============================] - 1s 1ms/step - loss: 0.0360 - accuracy: 0.9920 - val_loss: 0.7598 - val_accuracy: 0.9051\n",
      "Epoch 74/100\n",
      "475/475 [==============================] - 1s 1ms/step - loss: 0.0475 - accuracy: 0.9884 - val_loss: 0.8142 - val_accuracy: 0.8936\n",
      "Epoch 75/100\n",
      "475/475 [==============================] - 1s 1ms/step - loss: 0.0395 - accuracy: 0.9916 - val_loss: 0.7485 - val_accuracy: 0.9030\n",
      "Epoch 76/100\n",
      "475/475 [==============================] - 1s 1ms/step - loss: 0.0353 - accuracy: 0.9916 - val_loss: 0.7719 - val_accuracy: 0.9004\n",
      "Epoch 77/100\n",
      "475/475 [==============================] - 1s 1ms/step - loss: 0.0260 - accuracy: 0.9945 - val_loss: 0.7621 - val_accuracy: 0.9009\n",
      "Epoch 78/100\n",
      "475/475 [==============================] - 1s 1ms/step - loss: 0.0277 - accuracy: 0.9949 - val_loss: 0.7551 - val_accuracy: 0.9013\n",
      "Epoch 79/100\n",
      "475/475 [==============================] - 1s 1ms/step - loss: 0.0376 - accuracy: 0.9909 - val_loss: 0.7966 - val_accuracy: 0.8953\n",
      "Epoch 80/100\n",
      "475/475 [==============================] - 1s 1ms/step - loss: 0.0361 - accuracy: 0.9922 - val_loss: 0.8103 - val_accuracy: 0.8983\n",
      "Epoch 81/100\n",
      "475/475 [==============================] - 1s 1ms/step - loss: 0.0266 - accuracy: 0.9952 - val_loss: 0.7899 - val_accuracy: 0.9017\n",
      "Epoch 82/100\n",
      "475/475 [==============================] - 1s 1ms/step - loss: 0.0231 - accuracy: 0.9956 - val_loss: 0.8117 - val_accuracy: 0.9034\n",
      "Epoch 83/100\n",
      "475/475 [==============================] - 1s 2ms/step - loss: 0.0469 - accuracy: 0.9861 - val_loss: 0.8532 - val_accuracy: 0.8936\n",
      "Epoch 84/100\n",
      "475/475 [==============================] - 1s 2ms/step - loss: 0.0450 - accuracy: 0.9874 - val_loss: 0.8185 - val_accuracy: 0.8996\n",
      "Epoch 85/100\n",
      "475/475 [==============================] - 1s 2ms/step - loss: 0.0317 - accuracy: 0.9933 - val_loss: 0.8151 - val_accuracy: 0.9047\n",
      "Epoch 86/100\n",
      "475/475 [==============================] - 1s 1ms/step - loss: 0.0260 - accuracy: 0.9939 - val_loss: 0.7889 - val_accuracy: 0.9068\n",
      "Epoch 87/100\n",
      "475/475 [==============================] - 1s 1ms/step - loss: 0.0210 - accuracy: 0.9962 - val_loss: 0.8059 - val_accuracy: 0.9034\n",
      "Epoch 88/100\n",
      "475/475 [==============================] - 1s 1ms/step - loss: 0.0244 - accuracy: 0.9952 - val_loss: 0.8337 - val_accuracy: 0.9043\n",
      "Epoch 89/100\n",
      "475/475 [==============================] - 1s 1ms/step - loss: 0.0332 - accuracy: 0.9916 - val_loss: 0.8213 - val_accuracy: 0.9043\n",
      "Epoch 90/100\n",
      "475/475 [==============================] - 1s 1ms/step - loss: 0.0332 - accuracy: 0.9920 - val_loss: 0.8812 - val_accuracy: 0.8957\n",
      "Epoch 91/100\n",
      "475/475 [==============================] - 1s 1ms/step - loss: 0.0223 - accuracy: 0.9964 - val_loss: 0.8183 - val_accuracy: 0.8983\n",
      "Epoch 92/100\n",
      "475/475 [==============================] - 1s 1ms/step - loss: 0.0281 - accuracy: 0.9933 - val_loss: 0.8752 - val_accuracy: 0.8936\n",
      "Epoch 93/100\n",
      "475/475 [==============================] - 1s 1ms/step - loss: 0.0320 - accuracy: 0.9926 - val_loss: 0.8679 - val_accuracy: 0.8983\n",
      "Epoch 94/100\n",
      "475/475 [==============================] - 1s 1ms/step - loss: 0.0527 - accuracy: 0.9882 - val_loss: 0.9041 - val_accuracy: 0.8910\n",
      "Epoch 95/100\n",
      "475/475 [==============================] - 1s 1ms/step - loss: 0.0381 - accuracy: 0.9920 - val_loss: 0.8566 - val_accuracy: 0.9021\n",
      "Epoch 96/100\n",
      "475/475 [==============================] - 1s 2ms/step - loss: 0.0237 - accuracy: 0.9956 - val_loss: 0.8500 - val_accuracy: 0.9017\n",
      "Epoch 97/100\n",
      "475/475 [==============================] - 1s 2ms/step - loss: 0.0180 - accuracy: 0.9973 - val_loss: 0.8523 - val_accuracy: 0.8970\n",
      "Epoch 98/100\n",
      "475/475 [==============================] - 1s 1ms/step - loss: 0.0192 - accuracy: 0.9962 - val_loss: 0.8877 - val_accuracy: 0.8966\n",
      "Epoch 99/100\n",
      "475/475 [==============================] - 1s 1ms/step - loss: 0.0336 - accuracy: 0.9916 - val_loss: 0.8911 - val_accuracy: 0.8987\n",
      "Epoch 100/100\n",
      "475/475 [==============================] - 1s 1ms/step - loss: 0.0520 - accuracy: 0.9893 - val_loss: 0.8523 - val_accuracy: 0.9051\n"
     ]
    }
   ],
   "source": [
    "model_history=classifier.fit(X_train, y_train,validation_split=0.33,class_weight= weights_assigned, batch_size = 10, epochs = 100)"
   ]
  },
  {
   "cell_type": "code",
   "execution_count": null,
   "metadata": {},
   "outputs": [],
   "source": []
  },
  {
   "cell_type": "code",
   "execution_count": null,
   "metadata": {},
   "outputs": [],
   "source": []
  },
  {
   "cell_type": "code",
   "execution_count": 95,
   "metadata": {},
   "outputs": [
    {
     "name": "stdout",
     "output_type": "stream",
     "text": [
      "95/95 [==============================] - 0s 1ms/step - loss: 0.8400 - accuracy: 0.9069\n"
     ]
    },
    {
     "data": {
      "text/plain": [
       "[0.839963436126709, 0.9068772792816162]"
      ]
     },
     "execution_count": 95,
     "metadata": {},
     "output_type": "execute_result"
    }
   ],
   "source": [
    "classifier.evaluate(X_test,y_test)"
   ]
  },
  {
   "cell_type": "code",
   "execution_count": 96,
   "metadata": {},
   "outputs": [],
   "source": [
    "y_pred = (y_pred > 0.5)"
   ]
  },
  {
   "cell_type": "code",
   "execution_count": 97,
   "metadata": {},
   "outputs": [
    {
     "name": "stdout",
     "output_type": "stream",
     "text": [
      "              precision    recall  f1-score   support\n",
      "\n",
      "           0       0.95      0.94      0.95      2557\n",
      "           1       0.70      0.75      0.72       482\n",
      "\n",
      "    accuracy                           0.91      3039\n",
      "   macro avg       0.83      0.84      0.84      3039\n",
      "weighted avg       0.91      0.91      0.91      3039\n",
      "\n"
     ]
    }
   ],
   "source": [
    "print(classification_report(y_test,y_pred))"
   ]
  },
  {
   "cell_type": "code",
   "execution_count": null,
   "metadata": {},
   "outputs": [],
   "source": []
  }
 ],
 "metadata": {
  "kernelspec": {
   "display_name": "Python 3",
   "language": "python",
   "name": "python3"
  },
  "language_info": {
   "codemirror_mode": {
    "name": "ipython",
    "version": 3
   },
   "file_extension": ".py",
   "mimetype": "text/x-python",
   "name": "python",
   "nbconvert_exporter": "python",
   "pygments_lexer": "ipython3",
   "version": "3.8.5"
  }
 },
 "nbformat": 4,
 "nbformat_minor": 4
}
